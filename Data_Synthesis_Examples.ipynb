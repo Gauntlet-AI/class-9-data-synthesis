{
  "nbformat": 4,
  "nbformat_minor": 0,
  "metadata": {
    "colab": {
      "provenance": []
    },
    "kernelspec": {
      "name": "python3",
      "display_name": "Python 3"
    },
    "language_info": {
      "name": "python"
    }
  },
  "cells": [
    {
      "cell_type": "code",
      "execution_count": null,
      "metadata": {
        "id": "IJtfWdUnoi2Y"
      },
      "outputs": [],
      "source": [
        "# Install requirements\n",
        "%%capture --no-stderr\n",
        "%pip install --quiet -U langchain_openai"
      ]
    },
    {
      "cell_type": "code",
      "source": [
        "# Set API key\n",
        "import os\n",
        "import getpass\n",
        "\n",
        "\n",
        "def _set_env(var: str):\n",
        "    if not os.environ.get(var):\n",
        "        os.environ[var] = getpass.getpass(f\"{var}: \")\n",
        "\n",
        "\n",
        "_set_env(\"OPENAI_API_KEY\")"
      ],
      "metadata": {
        "colab": {
          "base_uri": "https://localhost:8080/"
        },
        "id": "EjD-ugTzpH5h",
        "outputId": "be177fb5-40bb-4659-8ff2-9ce46bce84f8"
      },
      "execution_count": null,
      "outputs": [
        {
          "name": "stdout",
          "output_type": "stream",
          "text": [
            "OPENAI_API_KEY: ··········\n"
          ]
        }
      ]
    },
    {
      "cell_type": "markdown",
      "source": [
        "# Technique 1 - Tweaking existing things\n",
        "\n",
        "One great way to get realistic synthetic data is to have at least some real data, and then engineer a prompt to tweak it.\n",
        "\n",
        "See: https://www.kaggle.com/datasets/kevinbnisch/10k-synthetic-persuade-essays-aes/data"
      ],
      "metadata": {
        "id": "cMQi9Yf_poWt"
      }
    },
    {
      "cell_type": "code",
      "source": [
        "tweak_prompt_template = ''''\n",
        "You are a {AGE} year old German student writing an English test, but you're stuck! Luckily, your neighbour is doing well and so you take a glimpse at his sheet\n",
        "and you could catch the following text:\n",
        "\n",
        "=========\n",
        "\"{TEXT}\"\n",
        "=========\n",
        "\n",
        "But you cannot simply copy it, you need to change it a bit so the teacher doesn't notice that you copied it,\n",
        "hence you copy it with the following rules:\n",
        "- Paraphrase the text just a bit\n",
        "- Adhere to the style and level of the original text\n",
        "- Sprinkle some errors into the text, akin to the original\n",
        "- Remember your age and incorporate that into the essay so it's feasible for a {AGE} year old student who writes not in his native language!\n",
        "\n",
        "Output only the essay\n",
        "'''"
      ],
      "metadata": {
        "id": "H5bCY6KOpuZW"
      },
      "execution_count": null,
      "outputs": []
    },
    {
      "cell_type": "code",
      "source": [
        "from collections.abc import Generator\n",
        "from langchain_core.output_parsers import StrOutputParser\n",
        "from langchain_core.prompts import ChatPromptTemplate\n",
        "from langchain_openai import ChatOpenAI\n",
        "\n",
        "\n",
        "llm = ChatOpenAI(model=\"gpt-4o-mini\")\n",
        "tweak_generation_prompt = ChatPromptTemplate.from_messages(\n",
        "    [\n",
        "        (\"system\", \"You are a system for generating realistic data\"),\n",
        "        (\"human\", tweak_prompt_template),\n",
        "    ]\n",
        ")\n",
        "\n",
        "# Excerpt from blog post at https://gallant.dev/posts/typing-is-thinking/\n",
        "essay_excerpt = \"\"\"\n",
        "You probably type a lot.\n",
        "\n",
        "It’s a pretty strange thing, considered historically. Rather than interact directly, we serialize our thoughts and send or broadcast them\n",
        "(often lossily and asynchronously). In the past, written correspondence was an occasional luxury, used for special purposes and communiques.\n",
        "Now it is our default mode, how humans reach one another for work, family, friendship, and more.\n",
        "\n",
        "The modern ubiquity of literacy is a societal boon and equalizer - but the accompanying commoditization of communication has had unexpected\n",
        "side effects. We produce and consume - materially and ideologically - yet despite the prodigious growth of production, consumption has become\n",
        "so automatic as to outpace it for most individuals.\n",
        "\"\"\"\n",
        "\n",
        "essay_generator = tweak_generation_prompt | llm | StrOutputParser()\n",
        "print(essay_generator.invoke({\"AGE\": 12, \"TEXT\": essay_excerpt}))"
      ],
      "metadata": {
        "colab": {
          "base_uri": "https://localhost:8080/"
        },
        "id": "oSBAksiuqL4D",
        "outputId": "49c7fd14-3388-4a2c-cc6b-d1fa417fe3a4"
      },
      "execution_count": null,
      "outputs": [
        {
          "output_type": "stream",
          "name": "stdout",
          "text": [
            "You probably write a lot.\n",
            "\n",
            "It’s a quite odd thing, if you think about it historically. Instead of talking to each other directly, we type out our thoughts and send or share them (often in a messy way and not at the same time). In the old days, writing letters was something special, only done for important messages and announcements. Now it’s how people usually connect, whether for work, family, friendships, and more.\n",
            "\n",
            "The fact that so many people can read and write today is a good thing for society and helps everyone to be more equal - but with that, the way we communicate has changed in surprising ways. We make and use things - both physical items and ideas - but even though we create so much, using these things has become so routine that most people can’t keep up with it anymore.\n"
          ]
        }
      ]
    },
    {
      "cell_type": "code",
      "source": [
        "print(essay_generator.invoke({\"AGE\": 8, \"TEXT\": essay_excerpt}))  # Younger"
      ],
      "metadata": {
        "colab": {
          "base_uri": "https://localhost:8080/"
        },
        "id": "Y0lpvcl6tFUC",
        "outputId": "b6d3330a-c135-47e7-a7ea-9e06492c526e"
      },
      "execution_count": null,
      "outputs": [
        {
          "output_type": "stream",
          "name": "stdout",
          "text": [
            "You probably write a lot.\n",
            "\n",
            "It’s a really funny thing, if you think about it. Instead of talking to each other face-to-face, we put our ideas down and send or share them (often not perfectly and not all at once). A long time ago, writing letters was something special, used for important messages and news. Now it’s the way we talk to everyone for work, family, friends, and more.\n",
            "\n",
            "Today, everyone can read and write, which is great for society and helps people be more equal - but there are some strange problems that come with it. We make and use things - both stuff and ideas - but even though we make a lot, using things has become so automatic that it goes faster than making for most people.\n"
          ]
        }
      ]
    },
    {
      "cell_type": "code",
      "source": [
        "print(essay_generator.invoke({\"AGE\": 20, \"TEXT\": essay_excerpt}))  # Older"
      ],
      "metadata": {
        "colab": {
          "base_uri": "https://localhost:8080/"
        },
        "id": "Oem7X5o-tkfa",
        "outputId": "b455677d-f857-4be3-adda-7712534c8ba3"
      },
      "execution_count": null,
      "outputs": [
        {
          "output_type": "stream",
          "name": "stdout",
          "text": [
            "You probably write a lot.\n",
            "\n",
            "It’s quite a strange phenomenon when you think about it historically. Instead of engaging directly with one another, we encode our thoughts and transmit or share them (often inexactly and out of sync). In earlier times, written communication was a rare luxury, reserved for special occasions and important messages. Now, it has become our primary method of connecting, whether for work, family, friendships, and beyond.\n",
            "\n",
            "The widespread presence of literacy today is a societal advantage and a leveler - but the resulting commercialization of communication has led to some unexpected consequences. We generate and consume - both materially and ideologically - yet even with the enormous increase in production, consumption has become so routine that it often surpasses it for most individuals.\n"
          ]
        }
      ]
    },
    {
      "cell_type": "markdown",
      "source": [
        " # Technique 2 - Breaking existing things\n",
        "\n",
        "Sometimes you don't want what you have - and the LLM can help. Breaking things is something LLMs can do quite easily (easier than fixing), so going in that direction can be a good way to get useful data.\n",
        "\n",
        "See: https://youtu.be/oFfVt3S51T4?si=FObUP56OIE8kptyt&t=7201 (Lex Fridman podcast #447)"
      ],
      "metadata": {
        "id": "Clp9Rp00uAui"
      }
    },
    {
      "cell_type": "code",
      "source": [
        "bug_prompt_template = \"\"\"\n",
        "You are a system that introduces subtle bugs into Python code. When provided code,\n",
        "you respond with code that is superficially very similar, and also still runs without\n",
        "syntax errors or major exceptions.\n",
        "\n",
        "However, the output of the code is changed to be not fully reliable. It can still work\n",
        "in some cases, but in other cases it will be incorrect. However, the logic issue you\n",
        "introduce in the code to cause this should be as minimal of a text change a possible,\n",
        "to make it difficult to diagnose or identify the issue.\n",
        "\n",
        "Return *only* the changed code, no other text.\n",
        "\n",
        "Following is the code to introduce a bug to:\n",
        "----------------------\n",
        "{CODE}\n",
        "\"\"\""
      ],
      "metadata": {
        "id": "Y30NK0KutpwJ"
      },
      "execution_count": null,
      "outputs": []
    },
    {
      "cell_type": "code",
      "source": [
        "bug_generation_prompt = ChatPromptTemplate.from_messages(\n",
        "    [\n",
        "        (\"system\", \"You are a system for generating realistic data\"),\n",
        "        (\"human\", bug_prompt_template),\n",
        "    ]\n",
        ")\n",
        "\n",
        "bug_generator = bug_generation_prompt | llm | StrOutputParser()\n",
        "\n",
        "quadratic_code = \"\"\"\n",
        "import cmath  # To handle complex numbers\n",
        "\n",
        "def solve_quadratic(a, b, c):\n",
        "    if a == 0:\n",
        "        raise ValueError(\"Coefficient 'a' cannot be zero in a quadratic equation.\")\n",
        "\n",
        "    # Calculate the discriminant\n",
        "    discriminant = b**2 - 4*a*c\n",
        "\n",
        "    # Calculate two solutions using the quadratic formula\n",
        "    root1 = (-b + cmath.sqrt(discriminant)) / (2 * a)\n",
        "    root2 = (-b - cmath.sqrt(discriminant)) / (2 * a)\n",
        "\n",
        "    return root1, root2\n",
        "\"\"\"\n",
        "\n",
        "print(bug_generator.invoke({\"CODE\": quadratic_code}))"
      ],
      "metadata": {
        "colab": {
          "base_uri": "https://localhost:8080/"
        },
        "id": "GHHeNYAmwsW1",
        "outputId": "d5128743-e19b-43b6-bfa6-2685e87562d8"
      },
      "execution_count": null,
      "outputs": [
        {
          "output_type": "stream",
          "name": "stdout",
          "text": [
            "```python\n",
            "import cmath  # To handle complex numbers\n",
            "\n",
            "def solve_quadratic(a, b, c):\n",
            "    if a == 0:\n",
            "        raise ValueError(\"Coefficient 'a' cannot be zero in a quadratic equation.\")\n",
            "\n",
            "    # Calculate the discriminant\n",
            "    discriminant = b**2 - 4*a*c\n",
            "\n",
            "    # Calculate two solutions using the quadratic formula\n",
            "    root1 = (-b + cmath.sqrt(discriminant)) / (2 * a)\n",
            "    root2 = (-b - cmath.sqrt(discriminant)) / (2 * a)\n",
            "\n",
            "    return root1, root1\n",
            "```\n"
          ]
        }
      ]
    },
    {
      "cell_type": "markdown",
      "source": [
        "# Technique 3 - Combine with external random things\n",
        "\n",
        "With the tweaking technique, we passed in a few values as part of the prompt engineering, but not really the content. We can use randomness and domain expertise to pass in content explicitly meant for the output, shoring up the weaknesses of LLMs that might not be adequately creative/random.\n",
        "\n",
        "See: https://www.kaggle.com/code/dileepjayamal/create-pii-dataset-script-8000k-gpt3-5-gen-data"
      ],
      "metadata": {
        "id": "kQzGovmjuS1m"
      }
    },
    {
      "cell_type": "code",
      "source": [
        "%%capture --no-stderr\n",
        "%pip install --quiet -U faker"
      ],
      "metadata": {
        "id": "7MTr-DiRuX56"
      },
      "execution_count": null,
      "outputs": []
    },
    {
      "cell_type": "code",
      "source": [
        "from faker import Faker\n",
        "f = Faker()\n",
        "print(f.profile())"
      ],
      "metadata": {
        "colab": {
          "base_uri": "https://localhost:8080/"
        },
        "id": "4IXcAuObx4Er",
        "outputId": "aeb75222-e4b8-4dda-a7d5-1aece66cc0ae"
      },
      "execution_count": null,
      "outputs": [
        {
          "output_type": "stream",
          "name": "stdout",
          "text": [
            "{'job': 'Administrator, local government', 'company': 'Snow Inc', 'ssn': '187-23-2205', 'residence': '4404 Anna Landing\\nNew Johnville, GA 06035', 'current_location': (Decimal('18.368173'), Decimal('-117.708923')), 'blood_group': 'A-', 'website': ['https://reed.org/', 'http://brown-montes.com/', 'https://schroeder.com/'], 'username': 'twashington', 'name': 'James Steele DDS', 'sex': 'M', 'address': '90691 Harrison Parks\\nJoseview, NJ 30406', 'mail': 'craig45@yahoo.com', 'birthdate': datetime.date(1975, 9, 11)}\n"
          ]
        }
      ]
    },
    {
      "cell_type": "code",
      "source": [
        "dossier_prompt_template = \"\"\"\n",
        "You are a system that writes creative dossiers of hypothetical people, in the\n",
        "style of a report that would be given to a secret agent as background information.\n",
        "The hypothetical person you should write about has the following profile:\n",
        "\n",
        "{PROFILE}\n",
        "\n",
        "Include and summarize information from this profile in your report as appropriate.\n",
        "It's okay to make up additional information to fill in blanks, but do not change\n",
        "any of the details from the profile - include them exactly as they are.\n",
        "\n",
        "Write your report in the style of a 1950s cold war era thriller.\n",
        "\n",
        "Return *only* the report.\n",
        "\"\"\""
      ],
      "metadata": {
        "id": "9Q9DkFBDx80a"
      },
      "execution_count": null,
      "outputs": []
    },
    {
      "cell_type": "code",
      "source": [
        "dossier_generation_prompt = ChatPromptTemplate.from_messages(\n",
        "    [\n",
        "        (\"system\", \"You are a system for generating realistic data\"),\n",
        "        (\"human\", dossier_prompt_template),\n",
        "    ]\n",
        ")\n",
        "\n",
        "dossier_generator = dossier_generation_prompt | llm | StrOutputParser()\n",
        "\n",
        "print(dossier_generator.invoke({\"PROFILE\": f.profile()}))"
      ],
      "metadata": {
        "id": "vZ2PL054zk9n",
        "colab": {
          "base_uri": "https://localhost:8080/"
        },
        "outputId": "de262463-0899-4bf9-9293-f7d7ef7f69bb"
      },
      "execution_count": null,
      "outputs": [
        {
          "output_type": "stream",
          "name": "stdout",
          "text": [
            "**CONFIDENTIAL REPORT ON SUBJECT: PATRICIA NUNEZ**\n",
            "\n",
            "**AGENT ID: 739-CB**\n",
            "\n",
            "**DATE: October 23, 2023**\n",
            "\n",
            "**SUBJECT NAME:** Patricia Nunez  \n",
            "**DATE OF BIRTH:** December 16, 1918  \n",
            "**SEX:** Female  \n",
            "**BLOOD GROUP:** B-  \n",
            "**SOCIAL SECURITY NUMBER:** 837-80-3791  \n",
            "\n",
            "**PROFESSIONAL AFFILIATION:**  \n",
            "Patricia Nunez is currently employed as a drilling engineer with Garcia-Murphy, a company known for its ventures in oil exploration and extraction. The company has been under scrutiny for its operations in politically sensitive regions, often intersecting with international interests. Ms. Nunez’s role is pivotal in overseeing drilling operations, which may involve clandestine projects that require a high level of technical expertise and discretion.\n",
            "\n",
            "**RESIDENCE:**  \n",
            "Patricia resides at 0482 Woods Causeway Apt. 029, Tapiachester, SD 10543. This location is a modest apartment complex situated in a suburban area known for its low crime rate and tight-knit community, providing her with a cover of normalcy amidst her potentially clandestine professional undertakings.\n",
            "\n",
            "**CONTACT INFORMATION:**  \n",
            "- **Email:** velezwilliam@hotmail.com  \n",
            "- **WEBSITES:**  \n",
            "  - [rogers-chen.com](http://www.rogers-chen.com/)  \n",
            "  - [cooke.com](https://cooke.com/)  \n",
            "\n",
            "The websites associated with Ms. Nunez suggest involvement in professional engineering networks and possibly collaborations with other firms in the oil and gas sector. Further investigation into these sites may yield information on her professional connections and potential affiliations.\n",
            "\n",
            "**CURRENT LOCATION:**  \n",
            "As of the latest intelligence report, Ms. Nunez is located at coordinates (Decimal('-60.7801005'), Decimal('-173.525412')). This position places her in a remote area of the Arctic, which may indicate participation in research or drilling operations in extreme conditions. Such locations are often associated with high-stakes geopolitical maneuvering, particularly in resource extraction.\n",
            "\n",
            "**HISTORICAL CONTEXT:**  \n",
            "At 104 years of age, Patricia Nunez represents a unique case; her extensive career in engineering spans several decades, including significant periods of technological advancement in drilling techniques. Her knowledge and experience may pose both an asset and a liability, depending on her allegiances and the nature of her current projects. \n",
            "\n",
            "**USERNAME:**  \n",
            "Ms. Nunez operates under the username 'francisriggs', which may be an alias. This pseudonym warrants further examination to ascertain any online behaviors or communications that could reveal additional layers of involvement in covert operations.\n",
            "\n",
            "**CONCLUSION:**  \n",
            "Patricia Nunez is a seasoned drilling engineer whose current role at Garcia-Murphy places her at the intersection of corporate and possibly espionage interests. Monitoring her movements and communications is advised, given the potential implications of her work in unstable regions. Further analysis of her online presence and connections within the engineering community may provide essential insights into her operational engagements.\n",
            "\n",
            "**END OF REPORT**  \n",
            "**CLASSIFICATION: SECRET**  \n",
            "**DISTRIBUTION: AGENT NETWORK ONLY**\n"
          ]
        }
      ]
    },
    {
      "cell_type": "markdown",
      "source": [
        "# What comes next?\n",
        "\n",
        "- Iteration on prompt and code to make data more realistic\n",
        "- Getting more real data to feed to it, and have it \"multiply\" it\n",
        "- Creating evaluation mechanisms (tools, agents, etc.) to automatically score/classify/structure the output"
      ],
      "metadata": {
        "id": "6LUIEZeXzA2T"
      }
    }
  ]
}